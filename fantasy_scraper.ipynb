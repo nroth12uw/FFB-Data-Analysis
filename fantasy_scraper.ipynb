{
 "cells": [
  {
   "cell_type": "code",
   "execution_count": 1,
   "metadata": {},
   "outputs": [],
   "source": [
    "import requests\n",
    "from bs4 import BeautifulSoup\n",
    "import pandas as pd\n",
    "import numpy as np\n",
    "import random as r\n",
    "from time import sleep"
   ]
  },
  {
   "cell_type": "code",
   "execution_count": null,
   "metadata": {},
   "outputs": [],
   "source": [
    "years = np.arange(2012, 2021)\n",
    "for year in years:\n",
    "    url = 'https://www.fantasypros.com/nfl/reports/leaders/ppr.php?year=' + str(year)\n",
    "    headers = {'Accept-Language': 'en-US, en;q=0.5'}\n",
    "    results = requests.get(url, headers=headers)\n",
    "    soup = BeautifulSoup(results.text, 'html.parser')\n",
    "    \n",
    "    rankings_div = soup.find('tbody')\n",
    "    \n",
    "    names = []\n",
    "    ovr_ranks = []\n",
    "    positions = []\n",
    "    teams = []\n",
    "    points = []\n",
    "    games = []\n",
    "    averages = []\n",
    "\n",
    "    player_divs = rankings_div.find_all('tr')\n",
    "    for container in player_divs:\n",
    "        info = container.find_all('td')\n",
    "    \n",
    "        rank = info[0].text\n",
    "        ovr_ranks.append(rank)\n",
    "    \n",
    "        name = info[1].text\n",
    "        names.append(name)\n",
    "    \n",
    "        team = info[2].text\n",
    "        teams.append(team)\n",
    "    \n",
    "        position = info[3].text\n",
    "        positions.append(position)\n",
    "    \n",
    "        point = info[4].text\n",
    "        points.append(point)\n",
    "    \n",
    "        game = info[5].text\n",
    "        games.append(game)\n",
    "        \n",
    "        average = info[6].text\n",
    "        averages.append(average)\n",
    "        \n",
    "        players = pd.DataFrame({\n",
    "            'Name': names,\n",
    "            'Overall Rank': ovr_ranks,\n",
    "            'Position': positions,\n",
    "            'Team': teams,\n",
    "            'Points': points,\n",
    "            'Games Played': games,\n",
    "            'Average Points': averages\n",
    "        })\n",
    "        \n",
    "        players['Overall Rank'] = players['Overall Rank'].astype(int)\n",
    "        players['Points'] = players['Points'].astype(float)\n",
    "        players['Games Played'] = players['Games Played'].astype(int)\n",
    "        players['Average Points'] = players['Average Points'].astype(float)\n",
    "        \n",
    "        players.to_csv('players_' + str(year) + '.csv')"
   ]
  },
  {
   "cell_type": "code",
   "execution_count": null,
   "metadata": {},
   "outputs": [],
   "source": []
  }
 ],
 "metadata": {
  "kernelspec": {
   "display_name": "Python 3",
   "language": "python",
   "name": "python3"
  },
  "language_info": {
   "codemirror_mode": {
    "name": "ipython",
    "version": 3
   },
   "file_extension": ".py",
   "mimetype": "text/x-python",
   "name": "python",
   "nbconvert_exporter": "python",
   "pygments_lexer": "ipython3",
   "version": "3.8.5"
  }
 },
 "nbformat": 4,
 "nbformat_minor": 4
}
